{
  "nbformat": 4,
  "nbformat_minor": 0,
  "metadata": {
    "colab": {
      "name": "Untitled11.ipynb",
      "provenance": []
    },
    "kernelspec": {
      "name": "python3",
      "display_name": "Python 3"
    },
    "language_info": {
      "name": "python"
    }
  },
  "cells": [
    {
      "cell_type": "code",
      "metadata": {
        "id": "r9KV13T8joqQ"
      },
      "source": [
        ""
      ],
      "execution_count": null,
      "outputs": []
    },
    {
      "cell_type": "code",
      "metadata": {
        "id": "0mUC3HF0hV4L"
      },
      "source": [
        "import tweepy\n",
        "import pandas as pd\n",
        "\n",
        "#override tweepy.StreamListener to add logic to on_status\n",
        "class MyStreamListener(tweepy.StreamListener):\n",
        "    data = []\n",
        "    num = 0\n",
        "\n",
        "    def store(self):\n",
        "      dict_ = {'id': [], 'user': [], 'date': [], 'text': [], \n",
        "         'favorite_count': [], 'hashtags': [], \n",
        "         'location': [], 'retweet': [], 'retweet_count': [], 'followers_count': [], 'in_reply_to_status_id':[], 'user_mentions':[]}\n",
        "      #\n",
        "      for status_j in self.data:\n",
        "          status = status_j._json\n",
        "          dict_['id'].append(status['id'])\n",
        "          dict_['user'].append(status['user']['screen_name'])\n",
        "          dict_['hashtags'].append([hashtag['text'] for hashtag in status['entities']['hashtags']])\n",
        "          dict_['user_mentions'].append([user_mention['screen_name'] for user_mention in status['entities']['user_mentions']])\n",
        "          dict_['location'].append(status['user']['location'])\n",
        "          dict_['followers_count'].append(status['user']['followers_count'])\n",
        "          dict_['in_reply_to_status_id'].append(status['in_reply_to_status_id'])\n",
        "          dict_['date'].append(status['created_at'])\n",
        "          dict_['text'].append(status['text'])\n",
        "          dict_['favorite_count'].append(status['favorite_count'])\n",
        "          dict_['retweet_count'].append(status['retweet_count'])\n",
        "          dict_['retweet'].append(status['retweeted'])\n",
        "\n",
        "      df = pd.DataFrame.from_dict(dict_, orient=\"columns\")\n",
        "      df = df.set_index(\"id\")\n",
        "      df.sort_values(by='favorite_count', inplace=True, ascending=False)\n",
        "      df.to_csv('/content/drive/MyDrive/euro2020/sc_twitter_' + str(self.num) + '.csv')\n",
        "      self.num = self.num + 1\n",
        "      self.data = []\n",
        "\n",
        "\n",
        "    def on_status(self, status):\n",
        "        self.data.append(status)\n",
        "        # to pandas\n",
        "        # store su google drive\n",
        "        if len(self.data) > 10:\n",
        "          self.store()\n"
      ],
      "execution_count": 29,
      "outputs": []
    },
    {
      "cell_type": "code",
      "metadata": {
        "id": "o-WCPmNKh1C9"
      },
      "source": [
        "from tweepy import OAuthHandler\n",
        "consumer_key = 'Vzk6O5t967f1n4iz9iQcsQwhf'\n",
        "consumer_secret = 'Q8sncdY1j85mwNitOqb5Spcg6U6uuZ0E2KNHHZEYF2J4DdCyVi'\n",
        "access_token = '164224789-mFmU5YhessCNvubNojgfL605tbU0vh0NOna3HdQU'\n",
        "access_secret = 'Ic5LNOH2QqxziSq4eTQdJvbXo3noTcQDUzCKXgFcdPzpC'\n",
        "auth = OAuthHandler(consumer_key, consumer_secret)\n",
        "auth.set_access_token(access_token, access_secret)\n",
        "api = tweepy.API(auth, wait_on_rate_limit=True)"
      ],
      "execution_count": 30,
      "outputs": []
    },
    {
      "cell_type": "code",
      "metadata": {
        "id": "00LB_jYnhYBm"
      },
      "source": [
        "myStreamListener = MyStreamListener()\n",
        "myStream = tweepy.Stream(auth = api.auth, listener=myStreamListener)"
      ],
      "execution_count": 31,
      "outputs": []
    },
    {
      "cell_type": "code",
      "metadata": {
        "colab": {
          "base_uri": "https://localhost:8080/",
          "height": 304
        },
        "id": "OdAGRyfvhhnP",
        "outputId": "67e31041-b789-43db-aa0a-12d7cb784855"
      },
      "source": [
        "myStream.filter(track=['EURO2020'])\n"
      ],
      "execution_count": 32,
      "outputs": [
        {
          "output_type": "error",
          "ename": "KeyboardInterrupt",
          "evalue": "ignored",
          "traceback": [
            "\u001b[0;31m---------------------------------------------------------------------------\u001b[0m",
            "\u001b[0;31mKeyboardInterrupt\u001b[0m                         Traceback (most recent call last)",
            "\u001b[0;32m<ipython-input-32-489fdae63b75>\u001b[0m in \u001b[0;36m<module>\u001b[0;34m()\u001b[0m\n\u001b[0;32m----> 1\u001b[0;31m \u001b[0mmyStream\u001b[0m\u001b[0;34m.\u001b[0m\u001b[0mfilter\u001b[0m\u001b[0;34m(\u001b[0m\u001b[0mtrack\u001b[0m\u001b[0;34m=\u001b[0m\u001b[0;34m[\u001b[0m\u001b[0;34m'EURO2020'\u001b[0m\u001b[0;34m]\u001b[0m\u001b[0;34m)\u001b[0m\u001b[0;34m\u001b[0m\u001b[0;34m\u001b[0m\u001b[0m\n\u001b[0m",
            "\u001b[0;32m/usr/local/lib/python3.7/dist-packages/tweepy/streaming.py\u001b[0m in \u001b[0;36mfilter\u001b[0;34m(self, follow, track, is_async, locations, stall_warnings, languages, encoding, filter_level)\u001b[0m\n\u001b[1;32m    472\u001b[0m             \u001b[0mself\u001b[0m\u001b[0;34m.\u001b[0m\u001b[0mbody\u001b[0m\u001b[0;34m[\u001b[0m\u001b[0;34m'filter_level'\u001b[0m\u001b[0;34m]\u001b[0m \u001b[0;34m=\u001b[0m \u001b[0mfilter_level\u001b[0m\u001b[0;34m.\u001b[0m\u001b[0mencode\u001b[0m\u001b[0;34m(\u001b[0m\u001b[0mencoding\u001b[0m\u001b[0;34m)\u001b[0m\u001b[0;34m\u001b[0m\u001b[0;34m\u001b[0m\u001b[0m\n\u001b[1;32m    473\u001b[0m         \u001b[0mself\u001b[0m\u001b[0;34m.\u001b[0m\u001b[0msession\u001b[0m\u001b[0;34m.\u001b[0m\u001b[0mparams\u001b[0m \u001b[0;34m=\u001b[0m \u001b[0;34m{\u001b[0m\u001b[0;34m'delimited'\u001b[0m\u001b[0;34m:\u001b[0m \u001b[0;34m'length'\u001b[0m\u001b[0;34m}\u001b[0m\u001b[0;34m\u001b[0m\u001b[0;34m\u001b[0m\u001b[0m\n\u001b[0;32m--> 474\u001b[0;31m         \u001b[0mself\u001b[0m\u001b[0;34m.\u001b[0m\u001b[0m_start\u001b[0m\u001b[0;34m(\u001b[0m\u001b[0mis_async\u001b[0m\u001b[0;34m)\u001b[0m\u001b[0;34m\u001b[0m\u001b[0;34m\u001b[0m\u001b[0m\n\u001b[0m\u001b[1;32m    475\u001b[0m \u001b[0;34m\u001b[0m\u001b[0m\n\u001b[1;32m    476\u001b[0m     def sitestream(self, follow, stall_warnings=False,\n",
            "\u001b[0;32m/usr/local/lib/python3.7/dist-packages/tweepy/streaming.py\u001b[0m in \u001b[0;36m_start\u001b[0;34m(self, is_async)\u001b[0m\n\u001b[1;32m    387\u001b[0m             \u001b[0mself\u001b[0m\u001b[0;34m.\u001b[0m\u001b[0m_thread\u001b[0m\u001b[0;34m.\u001b[0m\u001b[0mstart\u001b[0m\u001b[0;34m(\u001b[0m\u001b[0;34m)\u001b[0m\u001b[0;34m\u001b[0m\u001b[0;34m\u001b[0m\u001b[0m\n\u001b[1;32m    388\u001b[0m         \u001b[0;32melse\u001b[0m\u001b[0;34m:\u001b[0m\u001b[0;34m\u001b[0m\u001b[0;34m\u001b[0m\u001b[0m\n\u001b[0;32m--> 389\u001b[0;31m             \u001b[0mself\u001b[0m\u001b[0;34m.\u001b[0m\u001b[0m_run\u001b[0m\u001b[0;34m(\u001b[0m\u001b[0;34m)\u001b[0m\u001b[0;34m\u001b[0m\u001b[0;34m\u001b[0m\u001b[0m\n\u001b[0m\u001b[1;32m    390\u001b[0m \u001b[0;34m\u001b[0m\u001b[0m\n\u001b[1;32m    391\u001b[0m     \u001b[0;32mdef\u001b[0m \u001b[0mon_closed\u001b[0m\u001b[0;34m(\u001b[0m\u001b[0mself\u001b[0m\u001b[0;34m,\u001b[0m \u001b[0mresp\u001b[0m\u001b[0;34m)\u001b[0m\u001b[0;34m:\u001b[0m\u001b[0;34m\u001b[0m\u001b[0;34m\u001b[0m\u001b[0m\n",
            "\u001b[0;32m/usr/local/lib/python3.7/dist-packages/tweepy/streaming.py\u001b[0m in \u001b[0;36m_run\u001b[0;34m(self)\u001b[0m\n\u001b[1;32m    287\u001b[0m                     \u001b[0mself\u001b[0m\u001b[0;34m.\u001b[0m\u001b[0msnooze_time\u001b[0m \u001b[0;34m=\u001b[0m \u001b[0mself\u001b[0m\u001b[0;34m.\u001b[0m\u001b[0msnooze_time_step\u001b[0m\u001b[0;34m\u001b[0m\u001b[0;34m\u001b[0m\u001b[0m\n\u001b[1;32m    288\u001b[0m                     \u001b[0mself\u001b[0m\u001b[0;34m.\u001b[0m\u001b[0mlistener\u001b[0m\u001b[0;34m.\u001b[0m\u001b[0mon_connect\u001b[0m\u001b[0;34m(\u001b[0m\u001b[0;34m)\u001b[0m\u001b[0;34m\u001b[0m\u001b[0;34m\u001b[0m\u001b[0m\n\u001b[0;32m--> 289\u001b[0;31m                     \u001b[0mself\u001b[0m\u001b[0;34m.\u001b[0m\u001b[0m_read_loop\u001b[0m\u001b[0;34m(\u001b[0m\u001b[0mresp\u001b[0m\u001b[0;34m)\u001b[0m\u001b[0;34m\u001b[0m\u001b[0;34m\u001b[0m\u001b[0m\n\u001b[0m\u001b[1;32m    290\u001b[0m             \u001b[0;32mexcept\u001b[0m \u001b[0;34m(\u001b[0m\u001b[0mTimeout\u001b[0m\u001b[0;34m,\u001b[0m \u001b[0mssl\u001b[0m\u001b[0;34m.\u001b[0m\u001b[0mSSLError\u001b[0m\u001b[0;34m)\u001b[0m \u001b[0;32mas\u001b[0m \u001b[0mexc\u001b[0m\u001b[0;34m:\u001b[0m\u001b[0;34m\u001b[0m\u001b[0;34m\u001b[0m\u001b[0m\n\u001b[1;32m    291\u001b[0m                 \u001b[0;31m# This is still necessary, as a SSLError can actually be\u001b[0m\u001b[0;34m\u001b[0m\u001b[0;34m\u001b[0m\u001b[0;34m\u001b[0m\u001b[0m\n",
            "\u001b[0;32m/usr/local/lib/python3.7/dist-packages/tweepy/streaming.py\u001b[0m in \u001b[0;36m_read_loop\u001b[0;34m(self, resp)\u001b[0m\n\u001b[1;32m    347\u001b[0m                     \u001b[0;32mraise\u001b[0m \u001b[0mTweepError\u001b[0m\u001b[0;34m(\u001b[0m\u001b[0;34m'Expecting length, unexpected value found'\u001b[0m\u001b[0;34m)\u001b[0m\u001b[0;34m\u001b[0m\u001b[0;34m\u001b[0m\u001b[0m\n\u001b[1;32m    348\u001b[0m \u001b[0;34m\u001b[0m\u001b[0m\n\u001b[0;32m--> 349\u001b[0;31m             \u001b[0mnext_status_obj\u001b[0m \u001b[0;34m=\u001b[0m \u001b[0mbuf\u001b[0m\u001b[0;34m.\u001b[0m\u001b[0mread_len\u001b[0m\u001b[0;34m(\u001b[0m\u001b[0mlength\u001b[0m\u001b[0;34m)\u001b[0m\u001b[0;34m\u001b[0m\u001b[0;34m\u001b[0m\u001b[0m\n\u001b[0m\u001b[1;32m    350\u001b[0m             \u001b[0;32mif\u001b[0m \u001b[0mself\u001b[0m\u001b[0;34m.\u001b[0m\u001b[0mrunning\u001b[0m \u001b[0;32mand\u001b[0m \u001b[0mnext_status_obj\u001b[0m\u001b[0;34m:\u001b[0m\u001b[0;34m\u001b[0m\u001b[0;34m\u001b[0m\u001b[0m\n\u001b[1;32m    351\u001b[0m                 \u001b[0mself\u001b[0m\u001b[0;34m.\u001b[0m\u001b[0m_data\u001b[0m\u001b[0;34m(\u001b[0m\u001b[0mnext_status_obj\u001b[0m\u001b[0;34m)\u001b[0m\u001b[0;34m\u001b[0m\u001b[0;34m\u001b[0m\u001b[0m\n",
            "\u001b[0;32m/usr/local/lib/python3.7/dist-packages/tweepy/streaming.py\u001b[0m in \u001b[0;36mread_len\u001b[0;34m(self, length)\u001b[0m\n\u001b[1;32m    181\u001b[0m                 \u001b[0;32mreturn\u001b[0m \u001b[0mself\u001b[0m\u001b[0;34m.\u001b[0m\u001b[0m_pop\u001b[0m\u001b[0;34m(\u001b[0m\u001b[0mlength\u001b[0m\u001b[0;34m)\u001b[0m\u001b[0;34m\u001b[0m\u001b[0;34m\u001b[0m\u001b[0m\n\u001b[1;32m    182\u001b[0m             \u001b[0mread_len\u001b[0m \u001b[0;34m=\u001b[0m \u001b[0mmax\u001b[0m\u001b[0;34m(\u001b[0m\u001b[0mself\u001b[0m\u001b[0;34m.\u001b[0m\u001b[0m_chunk_size\u001b[0m\u001b[0;34m,\u001b[0m \u001b[0mlength\u001b[0m \u001b[0;34m-\u001b[0m \u001b[0mlen\u001b[0m\u001b[0;34m(\u001b[0m\u001b[0mself\u001b[0m\u001b[0;34m.\u001b[0m\u001b[0m_buffer\u001b[0m\u001b[0;34m)\u001b[0m\u001b[0;34m)\u001b[0m\u001b[0;34m\u001b[0m\u001b[0;34m\u001b[0m\u001b[0m\n\u001b[0;32m--> 183\u001b[0;31m             \u001b[0mself\u001b[0m\u001b[0;34m.\u001b[0m\u001b[0m_buffer\u001b[0m \u001b[0;34m+=\u001b[0m \u001b[0mself\u001b[0m\u001b[0;34m.\u001b[0m\u001b[0m_stream\u001b[0m\u001b[0;34m.\u001b[0m\u001b[0mread\u001b[0m\u001b[0;34m(\u001b[0m\u001b[0mread_len\u001b[0m\u001b[0;34m)\u001b[0m\u001b[0;34m\u001b[0m\u001b[0;34m\u001b[0m\u001b[0m\n\u001b[0m\u001b[1;32m    184\u001b[0m         \u001b[0;32mreturn\u001b[0m \u001b[0msix\u001b[0m\u001b[0;34m.\u001b[0m\u001b[0mb\u001b[0m\u001b[0;34m(\u001b[0m\u001b[0;34m''\u001b[0m\u001b[0;34m)\u001b[0m\u001b[0;34m\u001b[0m\u001b[0;34m\u001b[0m\u001b[0m\n\u001b[1;32m    185\u001b[0m \u001b[0;34m\u001b[0m\u001b[0m\n",
            "\u001b[0;32m/usr/local/lib/python3.7/dist-packages/urllib3/response.py\u001b[0m in \u001b[0;36mread\u001b[0;34m(self, amt, decode_content, cache_content)\u001b[0m\n\u001b[1;32m    442\u001b[0m             \u001b[0;32melse\u001b[0m\u001b[0;34m:\u001b[0m\u001b[0;34m\u001b[0m\u001b[0;34m\u001b[0m\u001b[0m\n\u001b[1;32m    443\u001b[0m                 \u001b[0mcache_content\u001b[0m \u001b[0;34m=\u001b[0m \u001b[0;32mFalse\u001b[0m\u001b[0;34m\u001b[0m\u001b[0;34m\u001b[0m\u001b[0m\n\u001b[0;32m--> 444\u001b[0;31m                 \u001b[0mdata\u001b[0m \u001b[0;34m=\u001b[0m \u001b[0mself\u001b[0m\u001b[0;34m.\u001b[0m\u001b[0m_fp\u001b[0m\u001b[0;34m.\u001b[0m\u001b[0mread\u001b[0m\u001b[0;34m(\u001b[0m\u001b[0mamt\u001b[0m\u001b[0;34m)\u001b[0m\u001b[0;34m\u001b[0m\u001b[0;34m\u001b[0m\u001b[0m\n\u001b[0m\u001b[1;32m    445\u001b[0m                 \u001b[0;32mif\u001b[0m \u001b[0mamt\u001b[0m \u001b[0;34m!=\u001b[0m \u001b[0;36m0\u001b[0m \u001b[0;32mand\u001b[0m \u001b[0;32mnot\u001b[0m \u001b[0mdata\u001b[0m\u001b[0;34m:\u001b[0m  \u001b[0;31m# Platform-specific: Buggy versions of Python.\u001b[0m\u001b[0;34m\u001b[0m\u001b[0;34m\u001b[0m\u001b[0m\n\u001b[1;32m    446\u001b[0m                     \u001b[0;31m# Close the connection when no data is returned\u001b[0m\u001b[0;34m\u001b[0m\u001b[0;34m\u001b[0m\u001b[0;34m\u001b[0m\u001b[0m\n",
            "\u001b[0;32m/usr/lib/python3.7/http/client.py\u001b[0m in \u001b[0;36mread\u001b[0;34m(self, amt)\u001b[0m\n\u001b[1;32m    458\u001b[0m         \u001b[0;32mif\u001b[0m \u001b[0mamt\u001b[0m \u001b[0;32mis\u001b[0m \u001b[0;32mnot\u001b[0m \u001b[0;32mNone\u001b[0m\u001b[0;34m:\u001b[0m\u001b[0;34m\u001b[0m\u001b[0;34m\u001b[0m\u001b[0m\n\u001b[1;32m    459\u001b[0m             \u001b[0;31m# Amount is given, implement using readinto\u001b[0m\u001b[0;34m\u001b[0m\u001b[0;34m\u001b[0m\u001b[0;34m\u001b[0m\u001b[0m\n\u001b[0;32m--> 460\u001b[0;31m             \u001b[0mb\u001b[0m \u001b[0;34m=\u001b[0m \u001b[0mbytearray\u001b[0m\u001b[0;34m(\u001b[0m\u001b[0mamt\u001b[0m\u001b[0;34m)\u001b[0m\u001b[0;34m\u001b[0m\u001b[0;34m\u001b[0m\u001b[0m\n\u001b[0m\u001b[1;32m    461\u001b[0m             \u001b[0mn\u001b[0m \u001b[0;34m=\u001b[0m \u001b[0mself\u001b[0m\u001b[0;34m.\u001b[0m\u001b[0mreadinto\u001b[0m\u001b[0;34m(\u001b[0m\u001b[0mb\u001b[0m\u001b[0;34m)\u001b[0m\u001b[0;34m\u001b[0m\u001b[0;34m\u001b[0m\u001b[0m\n\u001b[1;32m    462\u001b[0m             \u001b[0;32mreturn\u001b[0m \u001b[0mmemoryview\u001b[0m\u001b[0;34m(\u001b[0m\u001b[0mb\u001b[0m\u001b[0;34m)\u001b[0m\u001b[0;34m[\u001b[0m\u001b[0;34m:\u001b[0m\u001b[0mn\u001b[0m\u001b[0;34m]\u001b[0m\u001b[0;34m.\u001b[0m\u001b[0mtobytes\u001b[0m\u001b[0;34m(\u001b[0m\u001b[0;34m)\u001b[0m\u001b[0;34m\u001b[0m\u001b[0;34m\u001b[0m\u001b[0m\n",
            "\u001b[0;31mKeyboardInterrupt\u001b[0m: "
          ]
        }
      ]
    },
    {
      "cell_type": "code",
      "metadata": {
        "colab": {
          "base_uri": "https://localhost:8080/"
        },
        "id": "6X6zJnURh7Hh",
        "outputId": "efc3eff0-57b5-4ed5-a718-2272ffba24ef"
      },
      "source": [
        "len(myStreamListener.data)"
      ],
      "execution_count": 15,
      "outputs": [
        {
          "output_type": "execute_result",
          "data": {
            "text/plain": [
              "54"
            ]
          },
          "metadata": {
            "tags": []
          },
          "execution_count": 15
        }
      ]
    },
    {
      "cell_type": "code",
      "metadata": {
        "id": "XPTM19baiTza"
      },
      "source": [
        "# Create our dict with our data\n",
        "dict_ = {'id': [], 'user': [], 'date': [], 'text': [], \n",
        "         'favorite_count': [], 'hashtags': [], \n",
        "         'location': [], 'retweet': [], 'retweet_count': [], 'followers_count': [], 'in_reply_to_status_id':[], 'user_mentions':[]}\n",
        "#\n",
        "for status_j in myStreamListener.data:\n",
        "    status = status_j._json\n",
        "    dict_['id'].append(status['id'])\n",
        "    dict_['user'].append(status['user']['screen_name'])\n",
        "    dict_['hashtags'].append([hashtag['text'] for hashtag in status['entities']['hashtags']])\n",
        "    dict_['user_mentions'].append([user_mention['screen_name'] for user_mention in status['entities']['user_mentions']])\n",
        "    dict_['location'].append(status['user']['location'])\n",
        "    dict_['followers_count'].append(status['user']['followers_count'])\n",
        "    dict_['in_reply_to_status_id'].append(status['in_reply_to_status_id'])\n",
        "    dict_['date'].append(status['created_at'])\n",
        "    dict_['text'].append(status['text'])\n",
        "    dict_['favorite_count'].append(status['favorite_count'])\n",
        "    dict_['retweet_count'].append(status['retweet_count'])\n",
        "    dict_['retweet'].append(status['retweeted'])"
      ],
      "execution_count": 16,
      "outputs": []
    },
    {
      "cell_type": "code",
      "metadata": {
        "colab": {
          "base_uri": "https://localhost:8080/",
          "height": 1000
        },
        "id": "NjAmD6QSipsz",
        "outputId": "8070f30e-0206-4519-bd87-02fcb202b922"
      },
      "source": [
        "df = pd.DataFrame.from_dict(dict_, orient=\"columns\")\n",
        "df = df.set_index(\"id\")\n",
        "df.sort_values(by='favorite_count', inplace=True, ascending=False)\n",
        "df.head(10)"
      ],
      "execution_count": 17,
      "outputs": [
        {
          "output_type": "execute_result",
          "data": {
            "text/html": [
              "<div>\n",
              "<style scoped>\n",
              "    .dataframe tbody tr th:only-of-type {\n",
              "        vertical-align: middle;\n",
              "    }\n",
              "\n",
              "    .dataframe tbody tr th {\n",
              "        vertical-align: top;\n",
              "    }\n",
              "\n",
              "    .dataframe thead th {\n",
              "        text-align: right;\n",
              "    }\n",
              "</style>\n",
              "<table border=\"1\" class=\"dataframe\">\n",
              "  <thead>\n",
              "    <tr style=\"text-align: right;\">\n",
              "      <th></th>\n",
              "      <th>user</th>\n",
              "      <th>date</th>\n",
              "      <th>text</th>\n",
              "      <th>favorite_count</th>\n",
              "      <th>hashtags</th>\n",
              "      <th>location</th>\n",
              "      <th>retweet</th>\n",
              "      <th>retweet_count</th>\n",
              "      <th>followers_count</th>\n",
              "      <th>in_reply_to_status_id</th>\n",
              "      <th>user_mentions</th>\n",
              "    </tr>\n",
              "    <tr>\n",
              "      <th>id</th>\n",
              "      <th></th>\n",
              "      <th></th>\n",
              "      <th></th>\n",
              "      <th></th>\n",
              "      <th></th>\n",
              "      <th></th>\n",
              "      <th></th>\n",
              "      <th></th>\n",
              "      <th></th>\n",
              "      <th></th>\n",
              "      <th></th>\n",
              "    </tr>\n",
              "  </thead>\n",
              "  <tbody>\n",
              "    <tr>\n",
              "      <th>1410962569775353856</th>\n",
              "      <td>Lyannaxoxo</td>\n",
              "      <td>Fri Jul 02 14:04:25 +0000 2021</td>\n",
              "      <td>RT @Bundesliga_EN: Patrik Schick has been ligh...</td>\n",
              "      <td>0</td>\n",
              "      <td>[EURO2020, Bundesliga]</td>\n",
              "      <td>ร้านเหล้าดอง</td>\n",
              "      <td>False</td>\n",
              "      <td>0</td>\n",
              "      <td>280</td>\n",
              "      <td>NaN</td>\n",
              "      <td>[Bundesliga_EN]</td>\n",
              "    </tr>\n",
              "    <tr>\n",
              "      <th>1410962588020752384</th>\n",
              "      <td>simonesalvador</td>\n",
              "      <td>Fri Jul 02 14:04:30 +0000 2021</td>\n",
              "      <td>Telecronisti Sky Sport | Quarti di finale #EUR...</td>\n",
              "      <td>0</td>\n",
              "      <td>[EURO2020]</td>\n",
              "      <td>Castelnovo del Friuli</td>\n",
              "      <td>False</td>\n",
              "      <td>0</td>\n",
              "      <td>896</td>\n",
              "      <td>NaN</td>\n",
              "      <td>[]</td>\n",
              "    </tr>\n",
              "    <tr>\n",
              "      <th>1410962581171363844</th>\n",
              "      <td>otbprotector</td>\n",
              "      <td>Fri Jul 02 14:04:28 +0000 2021</td>\n",
              "      <td>VOTEN ACÁ, NO POR EL #\\nhttps://t.co/ImAAyKBZHn</td>\n",
              "      <td>0</td>\n",
              "      <td>[]</td>\n",
              "      <td>she/her</td>\n",
              "      <td>False</td>\n",
              "      <td>0</td>\n",
              "      <td>2137</td>\n",
              "      <td>NaN</td>\n",
              "      <td>[]</td>\n",
              "    </tr>\n",
              "    <tr>\n",
              "      <th>1410962581330796552</th>\n",
              "      <td>its_kongo1</td>\n",
              "      <td>Fri Jul 02 14:04:28 +0000 2021</td>\n",
              "      <td>RT @AllanNyash: #SUI vs #ESP are meeting today...</td>\n",
              "      <td>0</td>\n",
              "      <td>[SUI, ESP, euro2020]</td>\n",
              "      <td>None</td>\n",
              "      <td>False</td>\n",
              "      <td>0</td>\n",
              "      <td>2</td>\n",
              "      <td>NaN</td>\n",
              "      <td>[AllanNyash]</td>\n",
              "    </tr>\n",
              "    <tr>\n",
              "      <th>1410962581267832842</th>\n",
              "      <td>iminbtsland</td>\n",
              "      <td>Fri Jul 02 14:04:28 +0000 2021</td>\n",
              "      <td>RT @jtoni_n: @EURO2020 @vivo_europe vote for b...</td>\n",
              "      <td>0</td>\n",
              "      <td>[]</td>\n",
              "      <td>missing bts</td>\n",
              "      <td>False</td>\n",
              "      <td>0</td>\n",
              "      <td>35</td>\n",
              "      <td>NaN</td>\n",
              "      <td>[jtoni_n, EURO2020, vivo_europe]</td>\n",
              "    </tr>\n",
              "    <tr>\n",
              "      <th>1410962582115061761</th>\n",
              "      <td>tommofviry</td>\n",
              "      <td>Fri Jul 02 14:04:28 +0000 2021</td>\n",
              "      <td>@EURO2020 @vivo_europe @albynliv</td>\n",
              "      <td>0</td>\n",
              "      <td>[]</td>\n",
              "      <td>⠀⠀⠀⠀⠀⠀⠀⠀⠀       240406 # !\\n ˃ᴗ˂ ¿ i’m reading...</td>\n",
              "      <td>False</td>\n",
              "      <td>0</td>\n",
              "      <td>302</td>\n",
              "      <td>1.410938e+18</td>\n",
              "      <td>[EURO2020, vivo_europe, albynliv]</td>\n",
              "    </tr>\n",
              "    <tr>\n",
              "      <th>1410962583545339908</th>\n",
              "      <td>GunnerDee_</td>\n",
              "      <td>Fri Jul 02 14:04:28 +0000 2021</td>\n",
              "      <td>RT @WhoScored: 🧠 Most interceptions at #EURO20...</td>\n",
              "      <td>0</td>\n",
              "      <td>[EURO2020, FRA, ITA]</td>\n",
              "      <td>7</td>\n",
              "      <td>False</td>\n",
              "      <td>0</td>\n",
              "      <td>617</td>\n",
              "      <td>NaN</td>\n",
              "      <td>[WhoScored]</td>\n",
              "    </tr>\n",
              "    <tr>\n",
              "      <th>1410962584573038593</th>\n",
              "      <td>GiacomoTarquini</td>\n",
              "      <td>Fri Jul 02 14:04:29 +0000 2021</td>\n",
              "      <td>https://t.co/Ehld4aEWZm</td>\n",
              "      <td>0</td>\n",
              "      <td>[]</td>\n",
              "      <td>None</td>\n",
              "      <td>False</td>\n",
              "      <td>0</td>\n",
              "      <td>63</td>\n",
              "      <td>NaN</td>\n",
              "      <td>[]</td>\n",
              "    </tr>\n",
              "    <tr>\n",
              "      <th>1410962585336356868</th>\n",
              "      <td>Carni611</td>\n",
              "      <td>Fri Jul 02 14:04:29 +0000 2021</td>\n",
              "      <td>RT @BTSUKUNITE: @EURO2020 @vivo_europe Hearing...</td>\n",
              "      <td>0</td>\n",
              "      <td>[]</td>\n",
              "      <td>England, United Kingdom</td>\n",
              "      <td>False</td>\n",
              "      <td>0</td>\n",
              "      <td>979</td>\n",
              "      <td>NaN</td>\n",
              "      <td>[BTSUKUNITE, EURO2020, vivo_europe, BTS_twt]</td>\n",
              "    </tr>\n",
              "    <tr>\n",
              "      <th>1410962584883322882</th>\n",
              "      <td>paz_mckagan_LT</td>\n",
              "      <td>Fri Jul 02 14:04:29 +0000 2021</td>\n",
              "      <td>@EURO2020 @vivo_europe kill my mind by louis t...</td>\n",
              "      <td>0</td>\n",
              "      <td>[]</td>\n",
              "      <td>None</td>\n",
              "      <td>False</td>\n",
              "      <td>0</td>\n",
              "      <td>38</td>\n",
              "      <td>1.410938e+18</td>\n",
              "      <td>[EURO2020, vivo_europe]</td>\n",
              "    </tr>\n",
              "  </tbody>\n",
              "</table>\n",
              "</div>"
            ],
            "text/plain": [
              "                                user  ...                                 user_mentions\n",
              "id                                    ...                                              \n",
              "1410962569775353856       Lyannaxoxo  ...                               [Bundesliga_EN]\n",
              "1410962588020752384   simonesalvador  ...                                            []\n",
              "1410962581171363844     otbprotector  ...                                            []\n",
              "1410962581330796552       its_kongo1  ...                                  [AllanNyash]\n",
              "1410962581267832842      iminbtsland  ...              [jtoni_n, EURO2020, vivo_europe]\n",
              "1410962582115061761       tommofviry  ...             [EURO2020, vivo_europe, albynliv]\n",
              "1410962583545339908       GunnerDee_  ...                                   [WhoScored]\n",
              "1410962584573038593  GiacomoTarquini  ...                                            []\n",
              "1410962585336356868         Carni611  ...  [BTSUKUNITE, EURO2020, vivo_europe, BTS_twt]\n",
              "1410962584883322882   paz_mckagan_LT  ...                       [EURO2020, vivo_europe]\n",
              "\n",
              "[10 rows x 11 columns]"
            ]
          },
          "metadata": {
            "tags": []
          },
          "execution_count": 17
        }
      ]
    },
    {
      "cell_type": "code",
      "metadata": {
        "id": "NNmvGCgAitNl"
      },
      "source": [
        "df.to_csv('sc_twitter.csv')"
      ],
      "execution_count": 18,
      "outputs": []
    },
    {
      "cell_type": "code",
      "metadata": {
        "id": "k_gvSjgFiwEf"
      },
      "source": [
        ""
      ],
      "execution_count": null,
      "outputs": []
    }
  ]
}